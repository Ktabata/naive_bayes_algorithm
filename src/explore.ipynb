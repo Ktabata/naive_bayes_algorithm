{
    "cells": [
        {
            "cell_type": "markdown",
            "metadata": {},
            "source": [
                "# Playstore Reviews"
            ]
        },
        {
            "cell_type": "code",
            "execution_count": 2,
            "metadata": {},
            "outputs": [],
            "source": [
                "import logging \n",
                "import pandas as pd\n",
                "import numpy as np\n",
                "import seaborn as sns\n",
                "import matplotlib.pyplot as plt\n",
                "from sklearn.model_selection import train_test_split\n",
                "from sklearn.naive_bayes import GaussianNB\n",
                "from sklearn.model_selection import GridSearchCV\n",
                "from sklearn.model_selection import ( train_test_split, GridSearchCV ) \n",
                "from sklearn.pipeline import Pipeline\n",
                "from sklearn.preprocessing import ( MinMaxScaler, LabelEncoder, StandardScaler, OneHotEncoder ) \n",
                "from sklearn.compose import ColumnTransformer\n",
                "from sklearn.metrics import mean_squared_error, r2_score\n",
                "from sklearn.linear_model import LinearRegression, Ridge, Lasso\n",
                "from sklearn.feature_selection import SelectKBest, f_regression\n",
                "from sklearn.metrics import classification_report, confusion_matrix, accuracy_score\n",
                "from sklearn.metrics import ( \n",
                "        accuracy_score, \n",
                "        f1_score, \n",
                "        matthews_corrcoef, \n",
                "        classification_report, \n",
                "        ConfusionMatrixDisplay ) \n",
                "from sklearn.inspection import permutation_importance\n",
                "from sklearn.impute import SimpleImputer\n",
                "logger = logging.getLogger()\n",
                "logger.setLevel(logging.INFO)"
            ]
        },
        {
            "cell_type": "markdown",
            "metadata": {},
            "source": [
                "### **1. Data loading** **Objective**: Obtain the data from source and get a first glimpse of their properties and presentation"
            ]
        },
        {
            "cell_type": "code",
            "execution_count": 3,
            "metadata": {},
            "outputs": [
                {
                    "data": {
                        "text/html": [
                            "<div>\n",
                            "<style scoped>\n",
                            "    .dataframe tbody tr th:only-of-type {\n",
                            "        vertical-align: middle;\n",
                            "    }\n",
                            "\n",
                            "    .dataframe tbody tr th {\n",
                            "        vertical-align: top;\n",
                            "    }\n",
                            "\n",
                            "    .dataframe thead th {\n",
                            "        text-align: right;\n",
                            "    }\n",
                            "</style>\n",
                            "<table border=\"1\" class=\"dataframe\">\n",
                            "  <thead>\n",
                            "    <tr style=\"text-align: right;\">\n",
                            "      <th></th>\n",
                            "      <th>package_name</th>\n",
                            "      <th>review</th>\n",
                            "      <th>polarity</th>\n",
                            "    </tr>\n",
                            "  </thead>\n",
                            "  <tbody>\n",
                            "    <tr>\n",
                            "      <th>0</th>\n",
                            "      <td>com.facebook.katana</td>\n",
                            "      <td>privacy at least put some option appear offli...</td>\n",
                            "      <td>0</td>\n",
                            "    </tr>\n",
                            "    <tr>\n",
                            "      <th>1</th>\n",
                            "      <td>com.facebook.katana</td>\n",
                            "      <td>messenger issues ever since the last update, ...</td>\n",
                            "      <td>0</td>\n",
                            "    </tr>\n",
                            "    <tr>\n",
                            "      <th>2</th>\n",
                            "      <td>com.facebook.katana</td>\n",
                            "      <td>profile any time my wife or anybody has more ...</td>\n",
                            "      <td>0</td>\n",
                            "    </tr>\n",
                            "    <tr>\n",
                            "      <th>3</th>\n",
                            "      <td>com.facebook.katana</td>\n",
                            "      <td>the new features suck for those of us who don...</td>\n",
                            "      <td>0</td>\n",
                            "    </tr>\n",
                            "    <tr>\n",
                            "      <th>4</th>\n",
                            "      <td>com.facebook.katana</td>\n",
                            "      <td>forced reload on uploading pic on replying co...</td>\n",
                            "      <td>0</td>\n",
                            "    </tr>\n",
                            "  </tbody>\n",
                            "</table>\n",
                            "</div>"
                        ],
                        "text/plain": [
                            "          package_name                                             review  \\\n",
                            "0  com.facebook.katana   privacy at least put some option appear offli...   \n",
                            "1  com.facebook.katana   messenger issues ever since the last update, ...   \n",
                            "2  com.facebook.katana   profile any time my wife or anybody has more ...   \n",
                            "3  com.facebook.katana   the new features suck for those of us who don...   \n",
                            "4  com.facebook.katana   forced reload on uploading pic on replying co...   \n",
                            "\n",
                            "   polarity  \n",
                            "0         0  \n",
                            "1         0  \n",
                            "2         0  \n",
                            "3         0  \n",
                            "4         0  "
                        ]
                    },
                    "execution_count": 3,
                    "metadata": {},
                    "output_type": "execute_result"
                }
            ],
            "source": [
                "#https://raw.githubusercontent.com/4GeeksAcademy/naive-bayes-project-tutorial/main/playstore_reviews.csv\n",
                "#Step 1: Loading the dataset\n",
                "data = pd.read_csv(\"https://raw.githubusercontent.com/4GeeksAcademy/naive-bayes-project-tutorial/main/playstore_reviews.csv\")\n",
                "data.head()"
            ]
        },
        {
            "cell_type": "markdown",
            "metadata": {},
            "source": [
                "### **2. Data preprocessing** **Objectives**: Perform the data cleaning, data transformation and data reduction steps to avoid data mistmatching, noisy data or data not wrangled"
            ]
        },
        {
            "cell_type": "code",
            "execution_count": 4,
            "metadata": {},
            "outputs": [
                {
                    "data": {
                        "text/html": [
                            "<div>\n",
                            "<style scoped>\n",
                            "    .dataframe tbody tr th:only-of-type {\n",
                            "        vertical-align: middle;\n",
                            "    }\n",
                            "\n",
                            "    .dataframe tbody tr th {\n",
                            "        vertical-align: top;\n",
                            "    }\n",
                            "\n",
                            "    .dataframe thead th {\n",
                            "        text-align: right;\n",
                            "    }\n",
                            "</style>\n",
                            "<table border=\"1\" class=\"dataframe\">\n",
                            "  <thead>\n",
                            "    <tr style=\"text-align: right;\">\n",
                            "      <th></th>\n",
                            "      <th>review</th>\n",
                            "      <th>polarity</th>\n",
                            "    </tr>\n",
                            "  </thead>\n",
                            "  <tbody>\n",
                            "    <tr>\n",
                            "      <th>0</th>\n",
                            "      <td>privacy at least put some option appear offli...</td>\n",
                            "      <td>0</td>\n",
                            "    </tr>\n",
                            "    <tr>\n",
                            "      <th>1</th>\n",
                            "      <td>messenger issues ever since the last update, ...</td>\n",
                            "      <td>0</td>\n",
                            "    </tr>\n",
                            "    <tr>\n",
                            "      <th>2</th>\n",
                            "      <td>profile any time my wife or anybody has more ...</td>\n",
                            "      <td>0</td>\n",
                            "    </tr>\n",
                            "    <tr>\n",
                            "      <th>3</th>\n",
                            "      <td>the new features suck for those of us who don...</td>\n",
                            "      <td>0</td>\n",
                            "    </tr>\n",
                            "    <tr>\n",
                            "      <th>4</th>\n",
                            "      <td>forced reload on uploading pic on replying co...</td>\n",
                            "      <td>0</td>\n",
                            "    </tr>\n",
                            "  </tbody>\n",
                            "</table>\n",
                            "</div>"
                        ],
                        "text/plain": [
                            "                                              review  polarity\n",
                            "0   privacy at least put some option appear offli...         0\n",
                            "1   messenger issues ever since the last update, ...         0\n",
                            "2   profile any time my wife or anybody has more ...         0\n",
                            "3   the new features suck for those of us who don...         0\n",
                            "4   forced reload on uploading pic on replying co...         0"
                        ]
                    },
                    "execution_count": 4,
                    "metadata": {},
                    "output_type": "execute_result"
                }
            ],
            "source": [
                "#Step 2: Studying the variables and their content\n",
                "#Eliminating irrelevant variable\n",
                "\n",
                "data.drop([\"package_name\"], axis = 1, inplace = True)\n",
                "data.head()"
            ]
        },
        {
            "cell_type": "code",
            "execution_count": 5,
            "metadata": {},
            "outputs": [
                {
                    "data": {
                        "text/html": [
                            "<div>\n",
                            "<style scoped>\n",
                            "    .dataframe tbody tr th:only-of-type {\n",
                            "        vertical-align: middle;\n",
                            "    }\n",
                            "\n",
                            "    .dataframe tbody tr th {\n",
                            "        vertical-align: top;\n",
                            "    }\n",
                            "\n",
                            "    .dataframe thead th {\n",
                            "        text-align: right;\n",
                            "    }\n",
                            "</style>\n",
                            "<table border=\"1\" class=\"dataframe\">\n",
                            "  <thead>\n",
                            "    <tr style=\"text-align: right;\">\n",
                            "      <th></th>\n",
                            "      <th>review</th>\n",
                            "      <th>polarity</th>\n",
                            "    </tr>\n",
                            "  </thead>\n",
                            "  <tbody>\n",
                            "    <tr>\n",
                            "      <th>0</th>\n",
                            "      <td>privacy at least put some option appear offlin...</td>\n",
                            "      <td>0</td>\n",
                            "    </tr>\n",
                            "    <tr>\n",
                            "      <th>1</th>\n",
                            "      <td>messenger issues ever since the last update, i...</td>\n",
                            "      <td>0</td>\n",
                            "    </tr>\n",
                            "    <tr>\n",
                            "      <th>2</th>\n",
                            "      <td>profile any time my wife or anybody has more t...</td>\n",
                            "      <td>0</td>\n",
                            "    </tr>\n",
                            "    <tr>\n",
                            "      <th>3</th>\n",
                            "      <td>the new features suck for those of us who don'...</td>\n",
                            "      <td>0</td>\n",
                            "    </tr>\n",
                            "    <tr>\n",
                            "      <th>4</th>\n",
                            "      <td>forced reload on uploading pic on replying com...</td>\n",
                            "      <td>0</td>\n",
                            "    </tr>\n",
                            "  </tbody>\n",
                            "</table>\n",
                            "</div>"
                        ],
                        "text/plain": [
                            "                                              review  polarity\n",
                            "0  privacy at least put some option appear offlin...         0\n",
                            "1  messenger issues ever since the last update, i...         0\n",
                            "2  profile any time my wife or anybody has more t...         0\n",
                            "3  the new features suck for those of us who don'...         0\n",
                            "4  forced reload on uploading pic on replying com...         0"
                        ]
                    },
                    "execution_count": 5,
                    "metadata": {},
                    "output_type": "execute_result"
                }
            ],
            "source": [
                "#Processing the text\n",
                "#Removing spaces and converting the text to lowercase\n",
                "data[\"review\"] = data[\"review\"].str.strip().str.lower()\n",
                "data.head()"
            ]
        },
        {
            "cell_type": "markdown",
            "metadata": {},
            "source": [
                "### **3. Exploratory Data Analysis** **Objective**: Summarize the main characteristics of the dataset using descriptive statistics and data visualization methods"
            ]
        },
        {
            "cell_type": "code",
            "execution_count": 6,
            "metadata": {},
            "outputs": [
                {
                    "data": {
                        "text/plain": [
                            "331    just did the latest update on viber and yet ag...\n",
                            "733    keeps crashing it only works well in extreme d...\n",
                            "382    the fail boat has arrived the 6.0 version is t...\n",
                            "704    superfast, just as i remember it ! opera mini ...\n",
                            "813    installed and immediately deleted this crap i ...\n",
                            "Name: review, dtype: object"
                        ]
                    },
                    "execution_count": 6,
                    "metadata": {},
                    "output_type": "execute_result"
                }
            ],
            "source": [
                "# Dividing the dataset into training and test samples\n",
                "from sklearn.model_selection import train_test_split\n",
                "\n",
                "X = data[\"review\"]\n",
                "y = data[\"polarity\"]\n",
                "\n",
                "X_train, X_test, y_train, y_test = train_test_split(X, y, test_size=0.2, random_state=42)\n",
                "\n",
                "X_train.head()"
            ]
        },
        {
            "cell_type": "code",
            "execution_count": 7,
            "metadata": {},
            "outputs": [
                {
                    "data": {
                        "text/plain": [
                            "709    love/hate has bug and security issues. i tried...\n",
                            "439    whatsapp i use this app now that blackberry me...\n",
                            "840                             usefully verry  nice app\n",
                            "720    fonts why in the heck is this thing analysing ...\n",
                            "39     app doesn't work after latest upgrade the face...\n",
                            "Name: review, dtype: object"
                        ]
                    },
                    "execution_count": 7,
                    "metadata": {},
                    "output_type": "execute_result"
                }
            ],
            "source": [
                "X_test.head()"
            ]
        },
        {
            "cell_type": "markdown",
            "metadata": {},
            "source": [
                "### **4. Machine learning** **Objective**: Create a model that learns from data to make predictions and generalize to unseen data, and thus perform tasks without explicit instructions"
            ]
        },
        {
            "cell_type": "code",
            "execution_count": 21,
            "metadata": {},
            "outputs": [],
            "source": [
                "# Dividir el dataset\n",
                "X_train, X_test, y_train, y_test = train_test_split(data[\"review\"], data[\"polarity\"], test_size=0.2, random_state=42)\n",
                "\n",
                "# Vectorización\n",
                "vec_model = CountVectorizer(stop_words=\"english\")\n",
                "X_train_vec = vec_model.fit_transform(X_train)\n",
                "X_test_vec = vec_model.transform(X_test)"
            ]
        },
        {
            "cell_type": "code",
            "execution_count": null,
            "metadata": {},
            "outputs": [
                {
                    "name": "stdout",
                    "output_type": "stream",
                    "text": [
                        "Resultados de los Modelos:\n",
                        "\n",
                        "MultinomialNB:\n",
                        "  accuracy: 0.8156\n",
                        "  f1_score: 0.8103\n",
                        "  precision: 0.8098\n",
                        "  recall: 0.8156\n",
                        "\n",
                        "BernoulliNB:\n",
                        "  accuracy: 0.7709\n",
                        "  f1_score: 0.7488\n",
                        "  precision: 0.7600\n",
                        "  recall: 0.7709\n",
                        "\n",
                        "GaussianNB:\n",
                        "  accuracy: 0.8045\n",
                        "  f1_score: 0.8015\n",
                        "  precision: 0.8000\n",
                        "  recall: 0.8045\n",
                        "\n",
                        "RandomForest:\n",
                        "  accuracy: 0.7989\n",
                        "  f1_score: 0.8026\n",
                        "  precision: 0.8097\n",
                        "  recall: 0.7989\n"
                    ]
                }
            ],
            "source": [
                "from sklearn.metrics import accuracy_score, f1_score, precision_score, recall_score, roc_auc_score\n",
                "\n",
                "# --- Entrenar y Evaluar Modelos ---\n",
                "\n",
                "results = {}\n",
                "\n",
                "# 1. Multinomial Naive Bayes\n",
                "mnb_model = MultinomialNB()\n",
                "mnb_model.fit(X_train_vec, y_train)\n",
                "y_pred_mnb = mnb_model.predict(X_test_vec)\n",
                "results['MultinomialNB'] = {\n",
                "    'accuracy': accuracy_score(y_test, y_pred_mnb),\n",
                "    'f1_score': f1_score(y_test, y_pred_mnb, average='weighted'),\n",
                "    'precision': precision_score(y_test, y_pred_mnb, average='weighted'),\n",
                "    'recall': recall_score(y_test, y_pred_mnb, average='weighted')\n",
                "}\n",
                "\n",
                "# 2. Bernoulli Naive Bayes\n",
                "bnb_model = BernoulliNB()\n",
                "bnb_model.fit(X_train_vec, y_train)\n",
                "y_pred_bnb = bnb_model.predict(X_test_vec)\n",
                "results['BernoulliNB'] = {\n",
                "    'accuracy': accuracy_score(y_test, y_pred_bnb),\n",
                "    'f1_score': f1_score(y_test, y_pred_bnb, average='weighted'),\n",
                "    'precision': precision_score(y_test, y_pred_bnb, average='weighted'),\n",
                "    'recall': recall_score(y_test, y_pred_bnb, average='weighted')\n",
                "}\n",
                "\n",
                "# 3. Gaussian Naive Bayes (con datos densos)\n",
                "gnb_model = GaussianNB()\n",
                "X_train_dense = X_train_vec.toarray()\n",
                "X_test_dense = X_test_vec.toarray()\n",
                "gnb_model.fit(X_train_dense, y_train)\n",
                "y_pred_gnb = gnb_model.predict(X_test_dense)\n",
                "results['GaussianNB'] = {\n",
                "    'accuracy': accuracy_score(y_test, y_pred_gnb),\n",
                "    'f1_score': f1_score(y_test, y_pred_gnb, average='weighted'),\n",
                "    'precision': precision_score(y_test, y_pred_gnb, average='weighted'),\n",
                "    'recall': recall_score(y_test, y_pred_gnb, average='weighted')\n",
                "}\n",
                "\n",
                "# 4. Random Forest\n",
                "rf_model = RandomForestClassifier(random_state=42)\n",
                "rf_model.fit(X_train_vec, y_train)\n",
                "y_pred_rf = rf_model.predict(X_test_vec)\n",
                "results['RandomForest'] = {\n",
                "    'accuracy': accuracy_score(y_test, y_pred_rf),\n",
                "    'f1_score': f1_score(y_test, y_pred_rf, average='weighted'),\n",
                "    'precision': precision_score(y_test, y_pred_rf, average='weighted'),\n",
                "    'recall': recall_score(y_test, y_pred_rf, average='weighted')\n",
                "}\n",
                "\n",
                "# Imprimir los resultados\n",
                "print(\"Resultados de los Modelos:\")\n",
                "for model_name, metrics in results.items():\n",
                "    print(f\"\\n{model_name}:\")\n",
                "    for metric, value in metrics.items():\n",
                "        print(f\"  {metric}: {value:.4f}\")"
            ]
        },
        {
            "cell_type": "code",
            "execution_count": 24,
            "metadata": {},
            "outputs": [
                {
                    "name": "stdout",
                    "output_type": "stream",
                    "text": [
                        "\n",
                        "Tabla de Comparación de Resultados:\n",
                        "               accuracy  f1_score  precision    recall\n",
                        "MultinomialNB  0.815642  0.810268   0.809751  0.815642\n",
                        "BernoulliNB    0.770950  0.748792   0.759998  0.770950\n",
                        "GaussianNB     0.804469  0.801531   0.800005  0.804469\n",
                        "RandomForest   0.798883  0.802642   0.809699  0.798883\n"
                    ]
                }
            ],
            "source": [
                "results_df = pd.DataFrame.from_dict(results, orient='index')\n",
                "print(\"\\nTabla de Comparación de Resultados:\")\n",
                "print(results_df)"
            ]
        },
        {
            "cell_type": "markdown",
            "metadata": {},
            "source": [
                "### **5. Model saving**\n",
                "**Objective**: Save the model and some critical information we consider necessary\n"
            ]
        },
        {
            "cell_type": "code",
            "execution_count": 25,
            "metadata": {},
            "outputs": [
                {
                    "name": "stdout",
                    "output_type": "stream",
                    "text": [
                        "Modelo y vectorizador guardados en: saved_models/multinomial_nb_model.pkl\n",
                        "Modelo y vectorizador guardados en: saved_models/bernoulli_nb_model.pkl\n",
                        "Modelo y vectorizador guardados en: saved_models/gaussian_nb_model.pkl\n",
                        "Modelo y vectorizador guardados en: saved_models/random_forest_model.pkl\n"
                    ]
                }
            ],
            "source": [
                "import pickle\n",
                "import os\n",
                "\n",
                "models_to_save = {\n",
                "    'multinomial_nb_model.pkl': (mnb_model, vec_model),\n",
                "    'bernoulli_nb_model.pkl': (bnb_model, vec_model),\n",
                "    'gaussian_nb_model.pkl': (gnb_model, vec_model),\n",
                "    'random_forest_model.pkl': (rf_model, vec_model)\n",
                "}\n",
                "\n",
                "output_dir = 'saved_models'\n",
                "os.makedirs(output_dir, exist_ok=True)\n",
                "\n",
                "for filename, (model, vectorizer) in models_to_save.items():\n",
                "    filepath = os.path.join(output_dir, filename)\n",
                "    with open(filepath, 'wb') as f:\n",
                "        pickle.dump({'model': model, 'vectorizer': vectorizer}, f)\n",
                "    print(f\"Modelo y vectorizador guardados en: {filepath}\")"
            ]
        }
    ],
    "metadata": {
        "kernelspec": {
            "display_name": ".venv",
            "language": "python",
            "name": "python3"
        },
        "language_info": {
            "codemirror_mode": {
                "name": "ipython",
                "version": 3
            },
            "file_extension": ".py",
            "mimetype": "text/x-python",
            "name": "python",
            "nbconvert_exporter": "python",
            "pygments_lexer": "ipython3",
            "version": "3.11.4"
        },
        "orig_nbformat": 4
    },
    "nbformat": 4,
    "nbformat_minor": 2
}
